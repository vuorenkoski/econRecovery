{
 "cells": [
  {
   "cell_type": "markdown",
   "id": "7870ba8e-f894-4ee0-91dc-4ea24eb75448",
   "metadata": {},
   "source": [
    "# Covid related death rate\n",
    "\n",
    "source: www.ourworldindata.org\n",
    "\n",
    "There is also this indicator: new_deaths_per_million\n",
    "\n",
    "Country code: three letter 'iso_code'"
   ]
  },
  {
   "cell_type": "code",
   "execution_count": 1,
   "id": "022789b5-cacb-4c81-aba8-6a13453f94df",
   "metadata": {},
   "outputs": [],
   "source": [
    "import pandas as pd\n",
    "import numpy as np"
   ]
  },
  {
   "cell_type": "code",
   "execution_count": 2,
   "id": "46d62ea0-df25-42e0-aee0-1bce127ef953",
   "metadata": {},
   "outputs": [],
   "source": [
    "url = \"https://covid.ourworldindata.org/data/owid-covid-data.csv\"\n",
    "df = pd.read_csv(url)"
   ]
  },
  {
   "cell_type": "code",
   "execution_count": 3,
   "id": "f7d1a471-d507-45bd-a57b-2324fd0eebef",
   "metadata": {},
   "outputs": [],
   "source": [
    "df=df[['total_deaths_per_million','location','date']]\n",
    "df['date']=pd.to_datetime(df.date,format='%Y-%m-%d')\n",
    "df['year']=df.date.dt.year\n",
    "df['month']=df.date.dt.month\n",
    "df['day']=df.date.dt.day"
   ]
  },
  {
   "cell_type": "code",
   "execution_count": 4,
   "id": "9b747aca-930c-4dbf-84f5-d8446d6870d2",
   "metadata": {},
   "outputs": [
    {
     "data": {
      "text/html": [
       "<div>\n",
       "<style scoped>\n",
       "    .dataframe tbody tr th:only-of-type {\n",
       "        vertical-align: middle;\n",
       "    }\n",
       "\n",
       "    .dataframe tbody tr th {\n",
       "        vertical-align: top;\n",
       "    }\n",
       "\n",
       "    .dataframe thead th {\n",
       "        text-align: right;\n",
       "    }\n",
       "</style>\n",
       "<table border=\"1\" class=\"dataframe\">\n",
       "  <thead>\n",
       "    <tr style=\"text-align: right;\">\n",
       "      <th></th>\n",
       "      <th></th>\n",
       "      <th></th>\n",
       "      <th>total_deaths_per_million</th>\n",
       "      <th>location</th>\n",
       "      <th>date</th>\n",
       "      <th>year</th>\n",
       "      <th>month</th>\n",
       "      <th>day</th>\n",
       "    </tr>\n",
       "    <tr>\n",
       "      <th>year</th>\n",
       "      <th>month</th>\n",
       "      <th>location</th>\n",
       "      <th></th>\n",
       "      <th></th>\n",
       "      <th></th>\n",
       "      <th></th>\n",
       "      <th></th>\n",
       "      <th></th>\n",
       "    </tr>\n",
       "  </thead>\n",
       "  <tbody>\n",
       "    <tr>\n",
       "      <th rowspan=\"5\" valign=\"top\">2020</th>\n",
       "      <th rowspan=\"5\" valign=\"top\">1</th>\n",
       "      <th>Argentina</th>\n",
       "      <td>NaN</td>\n",
       "      <td>Argentina</td>\n",
       "      <td>2020-01-31</td>\n",
       "      <td>2020</td>\n",
       "      <td>1</td>\n",
       "      <td>31</td>\n",
       "    </tr>\n",
       "    <tr>\n",
       "      <th>Asia</th>\n",
       "      <td>0.046</td>\n",
       "      <td>Asia</td>\n",
       "      <td>2020-01-31</td>\n",
       "      <td>2020</td>\n",
       "      <td>1</td>\n",
       "      <td>31</td>\n",
       "    </tr>\n",
       "    <tr>\n",
       "      <th>Australia</th>\n",
       "      <td>NaN</td>\n",
       "      <td>Australia</td>\n",
       "      <td>2020-01-31</td>\n",
       "      <td>2020</td>\n",
       "      <td>1</td>\n",
       "      <td>31</td>\n",
       "    </tr>\n",
       "    <tr>\n",
       "      <th>Cambodia</th>\n",
       "      <td>NaN</td>\n",
       "      <td>Cambodia</td>\n",
       "      <td>2020-01-31</td>\n",
       "      <td>2020</td>\n",
       "      <td>1</td>\n",
       "      <td>31</td>\n",
       "    </tr>\n",
       "    <tr>\n",
       "      <th>Canada</th>\n",
       "      <td>NaN</td>\n",
       "      <td>Canada</td>\n",
       "      <td>2020-01-31</td>\n",
       "      <td>2020</td>\n",
       "      <td>1</td>\n",
       "      <td>31</td>\n",
       "    </tr>\n",
       "  </tbody>\n",
       "</table>\n",
       "</div>"
      ],
      "text/plain": [
       "                      total_deaths_per_million   location       date  year  \\\n",
       "year month location                                                          \n",
       "2020 1     Argentina                       NaN  Argentina 2020-01-31  2020   \n",
       "           Asia                          0.046       Asia 2020-01-31  2020   \n",
       "           Australia                       NaN  Australia 2020-01-31  2020   \n",
       "           Cambodia                        NaN   Cambodia 2020-01-31  2020   \n",
       "           Canada                          NaN     Canada 2020-01-31  2020   \n",
       "\n",
       "                      month  day  \n",
       "year month location               \n",
       "2020 1     Argentina      1   31  \n",
       "           Asia           1   31  \n",
       "           Australia      1   31  \n",
       "           Cambodia       1   31  \n",
       "           Canada         1   31  "
      ]
     },
     "execution_count": 4,
     "metadata": {},
     "output_type": "execute_result"
    }
   ],
   "source": [
    "groups=df.groupby(['year','month','location']).apply(lambda df : df.sort_values('date', ascending=False).iloc[0])\n",
    "groups.head()"
   ]
  },
  {
   "cell_type": "code",
   "execution_count": 5,
   "id": "2ca76271-370d-4e82-85c6-a3b03be87215",
   "metadata": {},
   "outputs": [
    {
     "name": "stdout",
     "output_type": "stream",
     "text": [
      "Number of locations: 233\n",
      "min date: 2020-01-01 00:00:00\n",
      "max date: 2021-09-26 00:00:00\n"
     ]
    }
   ],
   "source": [
    "print('Number of locations:',len(df.location.unique()))\n",
    "print('min date:',df.date.min())\n",
    "print('max date:',df.date.max())"
   ]
  },
  {
   "cell_type": "markdown",
   "id": "002c7b71-992a-4581-a601-9b1494940a91",
   "metadata": {},
   "source": [
    "## Number of areas having data per month"
   ]
  },
  {
   "cell_type": "code",
   "execution_count": 6,
   "id": "7091de74-0ace-426e-8cc6-90d89aa8af4f",
   "metadata": {},
   "outputs": [
    {
     "data": {
      "text/plain": [
       "year  month\n",
       "2020  1          3\n",
       "      2         16\n",
       "      3        134\n",
       "      4        166\n",
       "      5        175\n",
       "      6        175\n",
       "      7        181\n",
       "      8        181\n",
       "      9        181\n",
       "      10       181\n",
       "      11       182\n",
       "      12       184\n",
       "2021  1        188\n",
       "      2        188\n",
       "      3        189\n",
       "      4        191\n",
       "      5        192\n",
       "      6        193\n",
       "      7        193\n",
       "      8        194\n",
       "      9        194\n",
       "Name: total_deaths_per_million, dtype: int64"
      ]
     },
     "execution_count": 6,
     "metadata": {},
     "output_type": "execute_result"
    }
   ],
   "source": [
    "groups['total_deaths_per_million'].groupby(['year','month']).count()"
   ]
  },
  {
   "cell_type": "markdown",
   "id": "036b1d1a-db97-48c3-8178-3fe3f3ac171b",
   "metadata": {},
   "source": [
    "## Number on monthly datapoints per country"
   ]
  },
  {
   "cell_type": "code",
   "execution_count": 7,
   "id": "4666358e-80b8-4cfa-a02f-87baea62e9c7",
   "metadata": {},
   "outputs": [
    {
     "data": {
      "text/plain": [
       "count    233.000000\n",
       "mean      14.939914\n",
       "std        7.265043\n",
       "min        0.000000\n",
       "25%       17.000000\n",
       "50%       19.000000\n",
       "75%       19.000000\n",
       "max       21.000000\n",
       "Name: total_deaths_per_million, dtype: float64"
      ]
     },
     "execution_count": 7,
     "metadata": {},
     "output_type": "execute_result"
    }
   ],
   "source": [
    "counts=groups['total_deaths_per_million'].groupby(['location']).count()\n",
    "counts.describe()"
   ]
  },
  {
   "cell_type": "markdown",
   "id": "ceff65ca-63a6-4741-95d1-2a53bf01eb8d",
   "metadata": {},
   "source": [
    "## Data on continents"
   ]
  },
  {
   "cell_type": "code",
   "execution_count": 8,
   "id": "5b1e24bf-4ef5-4a90-9885-b69bf6e4b3f3",
   "metadata": {},
   "outputs": [
    {
     "data": {
      "text/plain": [
       "location\n",
       "Africa           19\n",
       "Asia             21\n",
       "Europe           20\n",
       "North America    20\n",
       "South America    19\n",
       "Name: total_deaths_per_million, dtype: int64"
      ]
     },
     "execution_count": 8,
     "metadata": {},
     "output_type": "execute_result"
    }
   ],
   "source": [
    "counts=groups[groups.location.isin(['Europe','Asia','Africa','North America','South America'])]['total_deaths_per_million'].groupby(['location']).count()\n",
    "counts"
   ]
  },
  {
   "cell_type": "markdown",
   "id": "6b11dabc-62be-4816-b5bf-a8b1a74f5732",
   "metadata": {},
   "source": [
    "## Maximum values per month"
   ]
  },
  {
   "cell_type": "code",
   "execution_count": 9,
   "id": "807344ff-60ba-45fb-96ae-79305b9ebbe4",
   "metadata": {},
   "outputs": [
    {
     "data": {
      "text/plain": [
       "year  month\n",
       "2020  1           0.147\n",
       "      2          29.403\n",
       "      3         764.481\n",
       "      4        1205.528\n",
       "      5        1234.931\n",
       "      6        1234.931\n",
       "      7        1678.147\n",
       "      8        2206.633\n",
       "      9        2462.124\n",
       "      10       2592.791\n",
       "      11       2681.372\n",
       "      12       2789.917\n",
       "2021  1        3111.865\n",
       "      2        3672.187\n",
       "      3        4299.116\n",
       "      4        4997.120\n",
       "      5        5509.179\n",
       "      6        5765.419\n",
       "      7        5885.985\n",
       "      8        5943.240\n",
       "      9        5974.086\n",
       "Name: total_deaths_per_million, dtype: float64"
      ]
     },
     "execution_count": 9,
     "metadata": {},
     "output_type": "execute_result"
    }
   ],
   "source": [
    "groups['total_deaths_per_million'].groupby(['year','month']).max()"
   ]
  },
  {
   "cell_type": "code",
   "execution_count": null,
   "id": "a7de7dc9-b4f4-418e-af82-28474dc86691",
   "metadata": {},
   "outputs": [],
   "source": []
  }
 ],
 "metadata": {
  "kernelspec": {
   "display_name": "Python 3 (ipykernel)",
   "language": "python",
   "name": "python3"
  },
  "language_info": {
   "codemirror_mode": {
    "name": "ipython",
    "version": 3
   },
   "file_extension": ".py",
   "mimetype": "text/x-python",
   "name": "python",
   "nbconvert_exporter": "python",
   "pygments_lexer": "ipython3",
   "version": "3.8.10"
  }
 },
 "nbformat": 4,
 "nbformat_minor": 5
}
