{
 "cells": [
  {
   "cell_type": "markdown",
   "id": "4ad5c544-0df9-4372-a161-46d6558e25bb",
   "metadata": {},
   "source": [
    "# Data retriaval from World bank API\n",
    "\n",
    "https://databank.worldbank.org/source/world-development-indicators"
   ]
  },
  {
   "cell_type": "markdown",
   "id": "4bdbd2ad-dec8-4782-8625-dc8295857cf9",
   "metadata": {},
   "source": [
    "### imports"
   ]
  },
  {
   "cell_type": "code",
   "execution_count": 4,
   "id": "af15c1eb-1905-4265-b443-d8acc05cd9e7",
   "metadata": {},
   "outputs": [],
   "source": [
    "import pandas as pd\n",
    "import numpy as np\n",
    "import matplotlib.pyplot as plt\n",
    "\n",
    "from io import BytesIO\n",
    "from zipfile import ZipFile\n",
    "import requests\n",
    "import xml.etree.ElementTree as et"
   ]
  },
  {
   "cell_type": "markdown",
   "id": "90ffd512-5e5f-4285-9908-4f4678bc6254",
   "metadata": {},
   "source": [
    "### Download xml\n",
    "\n",
    "for example \n",
    "- GDP:'NY.GDP.PCAP.CD'\n",
    "- International tourism, number of arrivals: 'ST.INT.ARVL'\n",
    "- Unemployment, total (% of total labor force) (modeled ILO estimate): 'SL.UEM.TOTL.ZS'"
   ]
  },
  {
   "cell_type": "markdown",
   "id": "a54c7e0b-d278-4b8f-bde2-ac0398e02574",
   "metadata": {},
   "source": [
    "Method to downlaod data from api and to save it in local csv file. Only data on years >2017.\n",
    "\n",
    "Data is saved in CSV format, where columns are 'Country or Area', 'Item', 'Year', 'Value'."
   ]
  },
  {
   "cell_type": "code",
   "execution_count": 18,
   "id": "65644c45-9a4f-4a62-b5b1-c76e53c00d2a",
   "metadata": {},
   "outputs": [],
   "source": [
    "def get_WB_indicator(indicator):\n",
    "    url_base='https://api.worldbank.org/v2/en/indicator/'\n",
    "    filename = requests.get(url_base+indicator+'?downloadformat=xml').content\n",
    "    zf = ZipFile(BytesIO(filename), 'r' )\n",
    "    data=zf.read(zf.namelist()[0])\n",
    "    dataroot = et.fromstring(data)\n",
    "    df = pd.DataFrame()\n",
    "    for m in dataroot[0]:\n",
    "        if m.tag=='record':\n",
    "            d={}\n",
    "            for x in m:\n",
    "                d[x.attrib['name']]=x.text\n",
    "                if x.attrib['name']=='Country or Area':\n",
    "                    d['Code3']=x.attrib['key']\n",
    "            record = pd.Series(data=d, dtype=str, index=['Country or Area', 'Item', 'Year','Value','Code3'])\n",
    "            if int(d['Year'])>2017:\n",
    "                df=df.append(record, ignore_index=True)\n",
    "    return df\n",
    "\n",
    "df=get_WB_indicator('ST.INT.ARVL')\n",
    "df=df.append(get_WB_indicator('SL.UEM.TOTL.ZS'))\n",
    "df=df.append(get_WB_indicator('NY.GDP.PCAP.CD'))\n",
    "df.loc[df.Item=='Unemployment, total (% of total labor force) (modeled ILO estimate)','Item']='Unemployment (% of total labor force)'\n",
    "df.to_csv('WB_statistics.csv', index=False)"
   ]
  },
  {
   "cell_type": "code",
   "execution_count": 19,
   "id": "d0dee1c2-e067-4309-a37a-67d88064c051",
   "metadata": {},
   "outputs": [
    {
     "data": {
      "text/plain": [
       "(2394, 5)"
      ]
     },
     "execution_count": 19,
     "metadata": {},
     "output_type": "execute_result"
    }
   ],
   "source": [
    "df.shape"
   ]
  },
  {
   "cell_type": "code",
   "execution_count": 20,
   "id": "359444b8-db48-43cc-b685-6cd2469b203a",
   "metadata": {},
   "outputs": [
    {
     "data": {
      "text/html": [
       "<div>\n",
       "<style scoped>\n",
       "    .dataframe tbody tr th:only-of-type {\n",
       "        vertical-align: middle;\n",
       "    }\n",
       "\n",
       "    .dataframe tbody tr th {\n",
       "        vertical-align: top;\n",
       "    }\n",
       "\n",
       "    .dataframe thead th {\n",
       "        text-align: right;\n",
       "    }\n",
       "</style>\n",
       "<table border=\"1\" class=\"dataframe\">\n",
       "  <thead>\n",
       "    <tr style=\"text-align: right;\">\n",
       "      <th></th>\n",
       "      <th>Country or Area</th>\n",
       "      <th>Item</th>\n",
       "      <th>Year</th>\n",
       "      <th>Value</th>\n",
       "      <th>Code3</th>\n",
       "    </tr>\n",
       "  </thead>\n",
       "  <tbody>\n",
       "    <tr>\n",
       "      <th>0</th>\n",
       "      <td>Aruba</td>\n",
       "      <td>International tourism, number of arrivals</td>\n",
       "      <td>2018</td>\n",
       "      <td>1897000</td>\n",
       "      <td>ABW</td>\n",
       "    </tr>\n",
       "    <tr>\n",
       "      <th>1</th>\n",
       "      <td>Aruba</td>\n",
       "      <td>International tourism, number of arrivals</td>\n",
       "      <td>2019</td>\n",
       "      <td>1951000</td>\n",
       "      <td>ABW</td>\n",
       "    </tr>\n",
       "    <tr>\n",
       "      <th>2</th>\n",
       "      <td>Aruba</td>\n",
       "      <td>International tourism, number of arrivals</td>\n",
       "      <td>2020</td>\n",
       "      <td>None</td>\n",
       "      <td>ABW</td>\n",
       "    </tr>\n",
       "    <tr>\n",
       "      <th>3</th>\n",
       "      <td>Africa Eastern and Southern</td>\n",
       "      <td>International tourism, number of arrivals</td>\n",
       "      <td>2018</td>\n",
       "      <td>41189145.2687099</td>\n",
       "      <td>AFE</td>\n",
       "    </tr>\n",
       "    <tr>\n",
       "      <th>4</th>\n",
       "      <td>Africa Eastern and Southern</td>\n",
       "      <td>International tourism, number of arrivals</td>\n",
       "      <td>2019</td>\n",
       "      <td>39826701.4025488</td>\n",
       "      <td>AFE</td>\n",
       "    </tr>\n",
       "  </tbody>\n",
       "</table>\n",
       "</div>"
      ],
      "text/plain": [
       "               Country or Area                                       Item  \\\n",
       "0                        Aruba  International tourism, number of arrivals   \n",
       "1                        Aruba  International tourism, number of arrivals   \n",
       "2                        Aruba  International tourism, number of arrivals   \n",
       "3  Africa Eastern and Southern  International tourism, number of arrivals   \n",
       "4  Africa Eastern and Southern  International tourism, number of arrivals   \n",
       "\n",
       "   Year             Value Code3  \n",
       "0  2018           1897000   ABW  \n",
       "1  2019           1951000   ABW  \n",
       "2  2020              None   ABW  \n",
       "3  2018  41189145.2687099   AFE  \n",
       "4  2019  39826701.4025488   AFE  "
      ]
     },
     "execution_count": 20,
     "metadata": {},
     "output_type": "execute_result"
    }
   ],
   "source": [
    "df.head()"
   ]
  },
  {
   "cell_type": "code",
   "execution_count": 21,
   "id": "0620253c-58c8-46f2-bec7-9b0976987bbd",
   "metadata": {},
   "outputs": [
    {
     "data": {
      "text/html": [
       "<div>\n",
       "<style scoped>\n",
       "    .dataframe tbody tr th:only-of-type {\n",
       "        vertical-align: middle;\n",
       "    }\n",
       "\n",
       "    .dataframe tbody tr th {\n",
       "        vertical-align: top;\n",
       "    }\n",
       "\n",
       "    .dataframe thead th {\n",
       "        text-align: right;\n",
       "    }\n",
       "</style>\n",
       "<table border=\"1\" class=\"dataframe\">\n",
       "  <thead>\n",
       "    <tr style=\"text-align: right;\">\n",
       "      <th></th>\n",
       "      <th>Country or Area</th>\n",
       "      <th>Item</th>\n",
       "      <th>Year</th>\n",
       "      <th>Value</th>\n",
       "      <th>Code3</th>\n",
       "    </tr>\n",
       "  </thead>\n",
       "  <tbody>\n",
       "    <tr>\n",
       "      <th>225</th>\n",
       "      <td>Finland</td>\n",
       "      <td>International tourism, number of arrivals</td>\n",
       "      <td>2018</td>\n",
       "      <td>3224000</td>\n",
       "      <td>FIN</td>\n",
       "    </tr>\n",
       "    <tr>\n",
       "      <th>226</th>\n",
       "      <td>Finland</td>\n",
       "      <td>International tourism, number of arrivals</td>\n",
       "      <td>2019</td>\n",
       "      <td>3290000</td>\n",
       "      <td>FIN</td>\n",
       "    </tr>\n",
       "    <tr>\n",
       "      <th>227</th>\n",
       "      <td>Finland</td>\n",
       "      <td>International tourism, number of arrivals</td>\n",
       "      <td>2020</td>\n",
       "      <td>None</td>\n",
       "      <td>FIN</td>\n",
       "    </tr>\n",
       "    <tr>\n",
       "      <th>225</th>\n",
       "      <td>Finland</td>\n",
       "      <td>Unemployment (% of total labor force)</td>\n",
       "      <td>2018</td>\n",
       "      <td>7.36</td>\n",
       "      <td>FIN</td>\n",
       "    </tr>\n",
       "    <tr>\n",
       "      <th>226</th>\n",
       "      <td>Finland</td>\n",
       "      <td>Unemployment (% of total labor force)</td>\n",
       "      <td>2019</td>\n",
       "      <td>6.7</td>\n",
       "      <td>FIN</td>\n",
       "    </tr>\n",
       "    <tr>\n",
       "      <th>227</th>\n",
       "      <td>Finland</td>\n",
       "      <td>Unemployment (% of total labor force)</td>\n",
       "      <td>2020</td>\n",
       "      <td>7.83</td>\n",
       "      <td>FIN</td>\n",
       "    </tr>\n",
       "    <tr>\n",
       "      <th>225</th>\n",
       "      <td>Finland</td>\n",
       "      <td>GDP per capita (current US$)</td>\n",
       "      <td>2018</td>\n",
       "      <td>50013.2942027626</td>\n",
       "      <td>FIN</td>\n",
       "    </tr>\n",
       "    <tr>\n",
       "      <th>226</th>\n",
       "      <td>Finland</td>\n",
       "      <td>GDP per capita (current US$)</td>\n",
       "      <td>2019</td>\n",
       "      <td>48711.5642079496</td>\n",
       "      <td>FIN</td>\n",
       "    </tr>\n",
       "    <tr>\n",
       "      <th>227</th>\n",
       "      <td>Finland</td>\n",
       "      <td>GDP per capita (current US$)</td>\n",
       "      <td>2020</td>\n",
       "      <td>49041.3422565659</td>\n",
       "      <td>FIN</td>\n",
       "    </tr>\n",
       "  </tbody>\n",
       "</table>\n",
       "</div>"
      ],
      "text/plain": [
       "    Country or Area                                       Item  Year  \\\n",
       "225         Finland  International tourism, number of arrivals  2018   \n",
       "226         Finland  International tourism, number of arrivals  2019   \n",
       "227         Finland  International tourism, number of arrivals  2020   \n",
       "225         Finland      Unemployment (% of total labor force)  2018   \n",
       "226         Finland      Unemployment (% of total labor force)  2019   \n",
       "227         Finland      Unemployment (% of total labor force)  2020   \n",
       "225         Finland               GDP per capita (current US$)  2018   \n",
       "226         Finland               GDP per capita (current US$)  2019   \n",
       "227         Finland               GDP per capita (current US$)  2020   \n",
       "\n",
       "                Value Code3  \n",
       "225           3224000   FIN  \n",
       "226           3290000   FIN  \n",
       "227              None   FIN  \n",
       "225              7.36   FIN  \n",
       "226               6.7   FIN  \n",
       "227              7.83   FIN  \n",
       "225  50013.2942027626   FIN  \n",
       "226  48711.5642079496   FIN  \n",
       "227  49041.3422565659   FIN  "
      ]
     },
     "execution_count": 21,
     "metadata": {},
     "output_type": "execute_result"
    }
   ],
   "source": [
    "df[df['Country or Area']=='Finland']"
   ]
  },
  {
   "cell_type": "code",
   "execution_count": null,
   "id": "e05b1a82-b484-4257-89f1-9a47b40e040c",
   "metadata": {},
   "outputs": [],
   "source": []
  }
 ],
 "metadata": {
  "kernelspec": {
   "display_name": "Python 3 (ipykernel)",
   "language": "python",
   "name": "python3"
  },
  "language_info": {
   "codemirror_mode": {
    "name": "ipython",
    "version": 3
   },
   "file_extension": ".py",
   "mimetype": "text/x-python",
   "name": "python",
   "nbconvert_exporter": "python",
   "pygments_lexer": "ipython3",
   "version": "3.8.10"
  }
 },
 "nbformat": 4,
 "nbformat_minor": 5
}
