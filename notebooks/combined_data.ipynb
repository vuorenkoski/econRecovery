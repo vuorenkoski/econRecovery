{
 "cells": [
  {
   "cell_type": "code",
   "execution_count": 21,
   "id": "59cb989c-08b2-45b8-8433-26075b17ef9d",
   "metadata": {},
   "outputs": [],
   "source": [
    "import pandas as pd\n",
    "\n",
    "countries=pd.read_csv('countries.csv')\n",
    "features=pd.read_csv('features.csv')\n",
    "data=pd.read_csv('data.csv')"
   ]
  },
  {
   "cell_type": "markdown",
   "id": "d3724f0d-3b1f-49ea-b24f-64ac44a758e9",
   "metadata": {},
   "source": [
    "Columns in data: value,year,feature_id,country_code,month,code2\n",
    "\n",
    "Columns in countries: Region Code,Region Name,Sub-region Code,Sub-region Name,Country or Area,M49 Code,Code2,Code3,Least Developed Countries (LDC),Developed / Developing Countries\n",
    "\n",
    "Columns in features: feature_id,name,source,short_description,link,description"
   ]
  },
  {
   "cell_type": "code",
   "execution_count": 22,
   "id": "fc58acfc-49f0-48a3-bc85-86581bd503ca",
   "metadata": {},
   "outputs": [
    {
     "name": "stdout",
     "output_type": "stream",
     "text": [
      "Number of datapoints: 11399\n",
      "Number of countries: 249\n",
      "Number of features: 6\n"
     ]
    }
   ],
   "source": [
    "print('Number of datapoints:',data.shape[0])\n",
    "print('Number of countries:',countries.shape[0])\n",
    "print('Number of features:',features.shape[0])"
   ]
  },
  {
   "cell_type": "code",
   "execution_count": 23,
   "id": "8731a6f0-b4cc-4741-a6f6-9658ca7fa5ad",
   "metadata": {},
   "outputs": [
    {
     "name": "stdout",
     "output_type": "stream",
     "text": [
      "GDP\n",
      "  Source: The World Bank\n",
      "  Link: https://data.worldbank.org/indicator/NY.GDP.PCAP.CD\n",
      "  Short description: GDP per capita (current US$, annual)\n",
      "GDP per capita is gross domestic product divided by midyear population. GDP is the sum of gross value added by all resident producers in the economy plus any product taxes and minus any subsidies not included in the value of the products. It is calculated without making deductions for depreciation of fabricated assets or for depletion and degradation of natural resources. Data are in current U.S. dollars. \n",
      "\n",
      "Tourism\n",
      "  Source: The World Bank\n",
      "  Link: https://data.worldbank.org/indicator/ST.INT.ARVL\n",
      "  Short description: International tourism, number of arrivals (annual)\n",
      "International inbound tourists (overnight visitors) are the number of tourists who travel to a country other than that in which they have their usual residence, but outside their usual environment, for a period not exceeding 12 months and whose main purpose in visiting is other than an activity remunerated from within the country visited. When data on number of tourists are not available, the number of visitors, which includes tourists, same-day visitors, cruise passengers, and crew members, is shown instead. Sources and collection methods for arrivals differ across countries. In some cases data are from border statistics (police, immigration, and the like) and supplemented by border surveys. In other cases data are from tourism accommodation establishments. For some countries number of arrivals is limited to arrivals by air and for others to arrivals staying in hotels. Some countries include arrivals of nationals residing abroad while others do not. Caution should thus be used in comparing arrivals across countries. The data on inbound tourists refer to the number of arrivals, not to the number of people traveling. Thus a person who makes several trips to a country during a given period is counted each time as a new arrival. \n",
      "\n",
      "Unemployment\n",
      "  Source: The World Bank\n",
      "  Link: https://data.worldbank.org/indicator/SL.UEM.TOTL.ZS\n",
      "  Short description: Unemployment (% of total labor force, annual)\n",
      "Unemployment refers to the share of the labor force that is without work but available for and seeking employment. \n",
      "\n",
      "GDP growth\n",
      "  Source: International Monetary Fund\n",
      "  Link: https://www.imf.org/external/datamapper/NGDP_RPCH@WEO/OEMDC/ADVEC/WEOWORLD\n",
      "  Short description: Real GDP growth (Annual percent change)\n",
      "nan \n",
      "\n",
      "Public debt\n",
      "  Source: International Monetary Fund\n",
      "  Link: https://www.imf.org/external/datamapper/CG_DEBT_GDP@GDD/OEMDC/ADVEC/WEOWORLD\n",
      "  Short description: Central Government Debt (Percent of GDP, annual)\n",
      "nan \n",
      "\n",
      "Corona vaccinations\n",
      "  Source: Our World in Data\n",
      "  Link: https://github.com/owid/covid-19-data/tree/master/public/data\n",
      "  Short description: Vaccinated / 100 inhabitants (monthly)\n",
      "Total number of people who received at least one vaccine dose per 100 people in the total population \n",
      "\n"
     ]
    }
   ],
   "source": [
    "for index, f in features.iterrows():\n",
    "    print(f['name'])\n",
    "    print('  Source:',f['source'])\n",
    "    print('  Link:',f['link'])\n",
    "    print('  Short description:',f['short_description'])\n",
    "    print(f['description'],'\\n')"
   ]
  },
  {
   "cell_type": "code",
   "execution_count": 29,
   "id": "09ac4171-eb5b-4cb2-a884-ec5d9d209806",
   "metadata": {},
   "outputs": [
    {
     "name": "stdout",
     "output_type": "stream",
     "text": [
      "GDP\n",
      "  datapoints: 2215\n",
      "    mean: 17195.4\n",
      "    years: [2010 2011 2012 2013 2014 2015 2016 2017 2018 2019 2020]\n",
      "Tourism\n",
      "  datapoints: 1881\n",
      "    mean: 10097653.8\n",
      "    years: [2010 2011 2012 2013 2014 2015 2016 2017 2018 2019]\n",
      "Unemployment\n",
      "  datapoints: 2035\n",
      "    mean: 7.8\n",
      "    years: [2010 2011 2012 2013 2014 2015 2016 2017 2018 2019 2020]\n",
      "GDP growth\n",
      "  datapoints: 2848\n",
      "    mean: 3.0\n",
      "    years: [2010 2011 2012 2013 2014 2015 2016 2017 2018 2019 2020 2021 2022 2023\n",
      " 2024 2025 2026]\n",
      "Public debt\n",
      "  datapoints: 1494\n",
      "    mean: 51.2\n",
      "    years: [2010 2011 2012 2013 2014 2015 2016 2017 2018 2019]\n",
      "Corona vaccinations\n",
      "  datapoints: 926\n",
      "    mean: 30.1\n",
      "    years: [2020 2021]\n"
     ]
    }
   ],
   "source": [
    "for index, f in features.iterrows():\n",
    "    print(f['name'])\n",
    "    print('  datapoints:',data[data.feature_id==f['feature_id']].shape[0])\n",
    "    print('    mean: {:.1f}'.format(data[data.feature_id==f['feature_id']].value.mean()))\n",
    "    print('    years:',data[data.feature_id==f['feature_id']].year.unique())"
   ]
  },
  {
   "cell_type": "code",
   "execution_count": null,
   "id": "71a02723-99df-4062-b509-77f290aef499",
   "metadata": {},
   "outputs": [],
   "source": []
  }
 ],
 "metadata": {
  "kernelspec": {
   "display_name": "Python 3 (ipykernel)",
   "language": "python",
   "name": "python3"
  },
  "language_info": {
   "codemirror_mode": {
    "name": "ipython",
    "version": 3
   },
   "file_extension": ".py",
   "mimetype": "text/x-python",
   "name": "python",
   "nbconvert_exporter": "python",
   "pygments_lexer": "ipython3",
   "version": "3.8.10"
  }
 },
 "nbformat": 4,
 "nbformat_minor": 5
}
