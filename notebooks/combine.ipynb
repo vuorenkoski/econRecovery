{
 "cells": [
  {
   "cell_type": "markdown",
   "id": "8c867bcc-921c-4213-9114-91dbbcb70a4e",
   "metadata": {},
   "source": [
    "# View WB, IMF and Covid data combined\n",
    "\n",
    "Data is previoiusly saved locally in CSV format, where columns are 'Country or Area', 'Item', 'Year', 'Value'."
   ]
  },
  {
   "cell_type": "code",
   "execution_count": 3,
   "id": "aa73d6fe-f01e-4f25-85bd-289b75e35941",
   "metadata": {},
   "outputs": [
    {
     "name": "stdout",
     "output_type": "stream",
     "text": [
      "Number of datapoints: 21791\n"
     ]
    },
    {
     "data": {
      "text/plain": [
       "value           float64\n",
       "year              int64\n",
       "feature_id        int64\n",
       "country_code     object\n",
       "month           float64\n",
       "dtype: object"
      ]
     },
     "execution_count": 3,
     "metadata": {},
     "output_type": "execute_result"
    }
   ],
   "source": [
    "import pandas as pd\n",
    "\n",
    "df=pd.read_csv('IMF_statistics.csv')\n",
    "df=df.append(pd.read_csv('WB_statistics.csv'))\n",
    "df=df.append(pd.read_csv('Covid_statistics.csv'))\n",
    "df=df.append(pd.read_csv('Covid_statistics_deaths.csv'))\n",
    "print('Number of datapoints:',df.shape[0])\n",
    "df.dtypes"
   ]
  },
  {
   "cell_type": "code",
   "execution_count": 4,
   "id": "36cb4658-0cb8-4fea-ade1-d5bd8739c319",
   "metadata": {},
   "outputs": [
    {
     "name": "stdout",
     "output_type": "stream",
     "text": [
      "Indicators in data\n",
      "  5\n",
      "    years: [2010 2011 2012 2013 2014 2015 2016 2017 2018 2019]\n",
      "  4\n",
      "    years: [2010 2011 2012 2013 2014 2015 2016 2017 2018 2019 2020 2021 2022 2023\n",
      " 2024 2025 2026]\n",
      "  2\n",
      "    years: [2010 2011 2012 2013 2014 2015 2016 2017 2018 2019 2020]\n",
      "  3\n",
      "    years: [2010 2011 2012 2013 2014 2015 2016 2017 2018 2019 2020]\n",
      "  1\n",
      "    years: [2010 2011 2012 2013 2014 2015 2016 2017 2018 2019 2020]\n",
      "  6\n",
      "    years: [2020 2021]\n",
      "  7\n",
      "    years: [2020 2021]\n"
     ]
    }
   ],
   "source": [
    "print('Indicators in data')\n",
    "indicators=df.feature_id.unique()\n",
    "for x in indicators:\n",
    "    print(' ',x)\n",
    "    print('    years:',df[df.feature_id==x].year.unique())"
   ]
  },
  {
   "cell_type": "code",
   "execution_count": 5,
   "id": "98129781-bf68-4156-b1eb-97e7d9e3dbc5",
   "metadata": {},
   "outputs": [
    {
     "name": "stdout",
     "output_type": "stream",
     "text": [
      "Number of countries or areas in data: 291\n"
     ]
    },
    {
     "data": {
      "text/html": [
       "<div>\n",
       "<style scoped>\n",
       "    .dataframe tbody tr th:only-of-type {\n",
       "        vertical-align: middle;\n",
       "    }\n",
       "\n",
       "    .dataframe tbody tr th {\n",
       "        vertical-align: top;\n",
       "    }\n",
       "\n",
       "    .dataframe thead th {\n",
       "        text-align: right;\n",
       "    }\n",
       "</style>\n",
       "<table border=\"1\" class=\"dataframe\">\n",
       "  <thead>\n",
       "    <tr style=\"text-align: right;\">\n",
       "      <th></th>\n",
       "      <th>value</th>\n",
       "      <th>year</th>\n",
       "      <th>feature_id</th>\n",
       "      <th>country_code</th>\n",
       "      <th>month</th>\n",
       "    </tr>\n",
       "  </thead>\n",
       "  <tbody>\n",
       "    <tr>\n",
       "      <th>47</th>\n",
       "      <td>41.2</td>\n",
       "      <td>2010</td>\n",
       "      <td>5</td>\n",
       "      <td>FIN</td>\n",
       "      <td>NaN</td>\n",
       "    </tr>\n",
       "    <tr>\n",
       "      <th>197</th>\n",
       "      <td>42.5</td>\n",
       "      <td>2011</td>\n",
       "      <td>5</td>\n",
       "      <td>FIN</td>\n",
       "      <td>NaN</td>\n",
       "    </tr>\n",
       "    <tr>\n",
       "      <th>347</th>\n",
       "      <td>46.1</td>\n",
       "      <td>2012</td>\n",
       "      <td>5</td>\n",
       "      <td>FIN</td>\n",
       "      <td>NaN</td>\n",
       "    </tr>\n",
       "    <tr>\n",
       "      <th>497</th>\n",
       "      <td>48.0</td>\n",
       "      <td>2013</td>\n",
       "      <td>5</td>\n",
       "      <td>FIN</td>\n",
       "      <td>NaN</td>\n",
       "    </tr>\n",
       "    <tr>\n",
       "      <th>648</th>\n",
       "      <td>50.6</td>\n",
       "      <td>2014</td>\n",
       "      <td>5</td>\n",
       "      <td>FIN</td>\n",
       "      <td>NaN</td>\n",
       "    </tr>\n",
       "    <tr>\n",
       "      <th>...</th>\n",
       "      <td>...</td>\n",
       "      <td>...</td>\n",
       "      <td>...</td>\n",
       "      <td>...</td>\n",
       "      <td>...</td>\n",
       "    </tr>\n",
       "    <tr>\n",
       "      <th>3241</th>\n",
       "      <td>174.6</td>\n",
       "      <td>2021</td>\n",
       "      <td>7</td>\n",
       "      <td>FIN</td>\n",
       "      <td>6.0</td>\n",
       "    </tr>\n",
       "    <tr>\n",
       "      <th>3471</th>\n",
       "      <td>177.4</td>\n",
       "      <td>2021</td>\n",
       "      <td>7</td>\n",
       "      <td>FIN</td>\n",
       "      <td>7.0</td>\n",
       "    </tr>\n",
       "    <tr>\n",
       "      <th>3701</th>\n",
       "      <td>185.5</td>\n",
       "      <td>2021</td>\n",
       "      <td>7</td>\n",
       "      <td>FIN</td>\n",
       "      <td>8.0</td>\n",
       "    </tr>\n",
       "    <tr>\n",
       "      <th>3932</th>\n",
       "      <td>194.5</td>\n",
       "      <td>2021</td>\n",
       "      <td>7</td>\n",
       "      <td>FIN</td>\n",
       "      <td>9.0</td>\n",
       "    </tr>\n",
       "    <tr>\n",
       "      <th>4159</th>\n",
       "      <td>208.7</td>\n",
       "      <td>2021</td>\n",
       "      <td>7</td>\n",
       "      <td>FIN</td>\n",
       "      <td>10.0</td>\n",
       "    </tr>\n",
       "  </tbody>\n",
       "</table>\n",
       "<p>104 rows × 5 columns</p>\n",
       "</div>"
      ],
      "text/plain": [
       "      value  year  feature_id country_code  month\n",
       "47     41.2  2010           5          FIN    NaN\n",
       "197    42.5  2011           5          FIN    NaN\n",
       "347    46.1  2012           5          FIN    NaN\n",
       "497    48.0  2013           5          FIN    NaN\n",
       "648    50.6  2014           5          FIN    NaN\n",
       "...     ...   ...         ...          ...    ...\n",
       "3241  174.6  2021           7          FIN    6.0\n",
       "3471  177.4  2021           7          FIN    7.0\n",
       "3701  185.5  2021           7          FIN    8.0\n",
       "3932  194.5  2021           7          FIN    9.0\n",
       "4159  208.7  2021           7          FIN   10.0\n",
       "\n",
       "[104 rows x 5 columns]"
      ]
     },
     "execution_count": 5,
     "metadata": {},
     "output_type": "execute_result"
    }
   ],
   "source": [
    "df.to_csv('data.csv', index=False)\n",
    "\n",
    "countries=df.country_code.unique()\n",
    "print('Number of countries or areas in data:',len(countries))\n",
    "df[df.country_code=='FIN']"
   ]
  },
  {
   "cell_type": "code",
   "execution_count": 6,
   "id": "9e280dad-b628-43df-8b9c-929835b0e0ac",
   "metadata": {},
   "outputs": [
    {
     "data": {
      "text/plain": [
       "(21791, 5)"
      ]
     },
     "execution_count": 6,
     "metadata": {},
     "output_type": "execute_result"
    }
   ],
   "source": [
    "df.shape"
   ]
  },
  {
   "cell_type": "code",
   "execution_count": 7,
   "id": "34abe644-e5d9-4ff3-adad-439b8d16a8ec",
   "metadata": {},
   "outputs": [
    {
     "data": {
      "text/html": [
       "<div>\n",
       "<style scoped>\n",
       "    .dataframe tbody tr th:only-of-type {\n",
       "        vertical-align: middle;\n",
       "    }\n",
       "\n",
       "    .dataframe tbody tr th {\n",
       "        vertical-align: top;\n",
       "    }\n",
       "\n",
       "    .dataframe thead th {\n",
       "        text-align: right;\n",
       "    }\n",
       "</style>\n",
       "<table border=\"1\" class=\"dataframe\">\n",
       "  <thead>\n",
       "    <tr style=\"text-align: right;\">\n",
       "      <th></th>\n",
       "      <th>Code2</th>\n",
       "      <th>country_code</th>\n",
       "    </tr>\n",
       "  </thead>\n",
       "  <tbody>\n",
       "    <tr>\n",
       "      <th>0</th>\n",
       "      <td>DZ</td>\n",
       "      <td>DZA</td>\n",
       "    </tr>\n",
       "    <tr>\n",
       "      <th>1</th>\n",
       "      <td>EG</td>\n",
       "      <td>EGY</td>\n",
       "    </tr>\n",
       "    <tr>\n",
       "      <th>2</th>\n",
       "      <td>LY</td>\n",
       "      <td>LBY</td>\n",
       "    </tr>\n",
       "    <tr>\n",
       "      <th>3</th>\n",
       "      <td>MA</td>\n",
       "      <td>MAR</td>\n",
       "    </tr>\n",
       "    <tr>\n",
       "      <th>4</th>\n",
       "      <td>SD</td>\n",
       "      <td>SDN</td>\n",
       "    </tr>\n",
       "  </tbody>\n",
       "</table>\n",
       "</div>"
      ],
      "text/plain": [
       "  Code2 country_code\n",
       "0    DZ          DZA\n",
       "1    EG          EGY\n",
       "2    LY          LBY\n",
       "3    MA          MAR\n",
       "4    SD          SDN"
      ]
     },
     "execution_count": 7,
     "metadata": {},
     "output_type": "execute_result"
    }
   ],
   "source": [
    "ccodes=pd.read_csv('countries.csv')[['Code2','country_code']]\n",
    "ccodes.head()"
   ]
  },
  {
   "cell_type": "code",
   "execution_count": 8,
   "id": "412fc7aa-d050-46b4-8f89-7055ea9f9a2f",
   "metadata": {},
   "outputs": [
    {
     "data": {
      "text/plain": [
       "(21791, 6)"
      ]
     },
     "execution_count": 8,
     "metadata": {},
     "output_type": "execute_result"
    }
   ],
   "source": [
    "df2=pd.merge(df, ccodes.rename(columns={'Code2':'code2'}), on=['country_code'], how='left')\n",
    "df2.head(50)\n",
    "df2.shape"
   ]
  },
  {
   "cell_type": "code",
   "execution_count": 9,
   "id": "9f8215fe-d4ae-4496-8b4d-ff5d67989539",
   "metadata": {},
   "outputs": [],
   "source": [
    "df2.to_csv('data.csv', index=False)"
   ]
  },
  {
   "cell_type": "code",
   "execution_count": 10,
   "id": "4e47ae89-a355-4bce-975a-5ad12da5b47c",
   "metadata": {},
   "outputs": [
    {
     "data": {
      "text/html": [
       "<div>\n",
       "<style scoped>\n",
       "    .dataframe tbody tr th:only-of-type {\n",
       "        vertical-align: middle;\n",
       "    }\n",
       "\n",
       "    .dataframe tbody tr th {\n",
       "        vertical-align: top;\n",
       "    }\n",
       "\n",
       "    .dataframe thead th {\n",
       "        text-align: right;\n",
       "    }\n",
       "</style>\n",
       "<table border=\"1\" class=\"dataframe\">\n",
       "  <thead>\n",
       "    <tr style=\"text-align: right;\">\n",
       "      <th></th>\n",
       "      <th>value</th>\n",
       "      <th>year</th>\n",
       "      <th>feature_id</th>\n",
       "      <th>country_code</th>\n",
       "      <th>month</th>\n",
       "      <th>code2</th>\n",
       "    </tr>\n",
       "  </thead>\n",
       "  <tbody>\n",
       "    <tr>\n",
       "      <th>144</th>\n",
       "      <td>73.9</td>\n",
       "      <td>2010</td>\n",
       "      <td>5</td>\n",
       "      <td>USA</td>\n",
       "      <td>NaN</td>\n",
       "      <td>US</td>\n",
       "    </tr>\n",
       "    <tr>\n",
       "      <th>294</th>\n",
       "      <td>78.8</td>\n",
       "      <td>2011</td>\n",
       "      <td>5</td>\n",
       "      <td>USA</td>\n",
       "      <td>NaN</td>\n",
       "      <td>US</td>\n",
       "    </tr>\n",
       "    <tr>\n",
       "      <th>444</th>\n",
       "      <td>83.1</td>\n",
       "      <td>2012</td>\n",
       "      <td>5</td>\n",
       "      <td>USA</td>\n",
       "      <td>NaN</td>\n",
       "      <td>US</td>\n",
       "    </tr>\n",
       "    <tr>\n",
       "      <th>595</th>\n",
       "      <td>85.4</td>\n",
       "      <td>2013</td>\n",
       "      <td>5</td>\n",
       "      <td>USA</td>\n",
       "      <td>NaN</td>\n",
       "      <td>US</td>\n",
       "    </tr>\n",
       "    <tr>\n",
       "      <th>746</th>\n",
       "      <td>86.0</td>\n",
       "      <td>2014</td>\n",
       "      <td>5</td>\n",
       "      <td>USA</td>\n",
       "      <td>NaN</td>\n",
       "      <td>US</td>\n",
       "    </tr>\n",
       "    <tr>\n",
       "      <th>...</th>\n",
       "      <td>...</td>\n",
       "      <td>...</td>\n",
       "      <td>...</td>\n",
       "      <td>...</td>\n",
       "      <td>...</td>\n",
       "      <td>...</td>\n",
       "    </tr>\n",
       "    <tr>\n",
       "      <th>20863</th>\n",
       "      <td>1815.0</td>\n",
       "      <td>2021</td>\n",
       "      <td>7</td>\n",
       "      <td>USA</td>\n",
       "      <td>6.0</td>\n",
       "      <td>US</td>\n",
       "    </tr>\n",
       "    <tr>\n",
       "      <th>21093</th>\n",
       "      <td>1841.2</td>\n",
       "      <td>2021</td>\n",
       "      <td>7</td>\n",
       "      <td>USA</td>\n",
       "      <td>7.0</td>\n",
       "      <td>US</td>\n",
       "    </tr>\n",
       "    <tr>\n",
       "      <th>21324</th>\n",
       "      <td>1925.0</td>\n",
       "      <td>2021</td>\n",
       "      <td>7</td>\n",
       "      <td>USA</td>\n",
       "      <td>8.0</td>\n",
       "      <td>US</td>\n",
       "    </tr>\n",
       "    <tr>\n",
       "      <th>21552</th>\n",
       "      <td>2099.4</td>\n",
       "      <td>2021</td>\n",
       "      <td>7</td>\n",
       "      <td>USA</td>\n",
       "      <td>9.0</td>\n",
       "      <td>US</td>\n",
       "    </tr>\n",
       "    <tr>\n",
       "      <th>21777</th>\n",
       "      <td>2238.9</td>\n",
       "      <td>2021</td>\n",
       "      <td>7</td>\n",
       "      <td>USA</td>\n",
       "      <td>10.0</td>\n",
       "      <td>US</td>\n",
       "    </tr>\n",
       "  </tbody>\n",
       "</table>\n",
       "<p>104 rows × 6 columns</p>\n",
       "</div>"
      ],
      "text/plain": [
       "        value  year  feature_id country_code  month code2\n",
       "144      73.9  2010           5          USA    NaN    US\n",
       "294      78.8  2011           5          USA    NaN    US\n",
       "444      83.1  2012           5          USA    NaN    US\n",
       "595      85.4  2013           5          USA    NaN    US\n",
       "746      86.0  2014           5          USA    NaN    US\n",
       "...       ...   ...         ...          ...    ...   ...\n",
       "20863  1815.0  2021           7          USA    6.0    US\n",
       "21093  1841.2  2021           7          USA    7.0    US\n",
       "21324  1925.0  2021           7          USA    8.0    US\n",
       "21552  2099.4  2021           7          USA    9.0    US\n",
       "21777  2238.9  2021           7          USA   10.0    US\n",
       "\n",
       "[104 rows x 6 columns]"
      ]
     },
     "execution_count": 10,
     "metadata": {},
     "output_type": "execute_result"
    }
   ],
   "source": [
    "df2[df2.country_code=='USA']"
   ]
  },
  {
   "cell_type": "code",
   "execution_count": 11,
   "id": "94d683b1-8b68-4897-9f9c-555683206b4e",
   "metadata": {},
   "outputs": [
    {
     "data": {
      "text/plain": [
       "(14797, 5)"
      ]
     },
     "execution_count": 11,
     "metadata": {},
     "output_type": "execute_result"
    }
   ],
   "source": [
    "df3=df2.dropna(subset=['value','year','feature_id','country_code','code2'])\n",
    "df3=df3.drop(['code2'],axis=1)\n",
    "df3.shape"
   ]
  },
  {
   "cell_type": "code",
   "execution_count": 12,
   "id": "9a9095a5-0583-457b-869a-1bc7fc32ea00",
   "metadata": {},
   "outputs": [
    {
     "data": {
      "text/plain": [
       "value           float64\n",
       "year              int64\n",
       "feature_id        int64\n",
       "country_code     object\n",
       "month           float64\n",
       "dtype: object"
      ]
     },
     "execution_count": 12,
     "metadata": {},
     "output_type": "execute_result"
    }
   ],
   "source": [
    "df3.dtypes"
   ]
  },
  {
   "cell_type": "code",
   "execution_count": 13,
   "id": "cb8ff7ac-9e16-425b-b0c8-9683f731c9b6",
   "metadata": {},
   "outputs": [
    {
     "data": {
      "text/plain": [
       "value           float64\n",
       "year              int64\n",
       "feature_id        int64\n",
       "country_code     object\n",
       "month           float64\n",
       "dtype: object"
      ]
     },
     "execution_count": 13,
     "metadata": {},
     "output_type": "execute_result"
    }
   ],
   "source": [
    "df3['value']=pd.to_numeric(df3['value'],errors='coerce')\n",
    "df3.dtypes"
   ]
  },
  {
   "cell_type": "code",
   "execution_count": 14,
   "id": "7fe9ba4b-d746-4c98-add6-5128b9873b93",
   "metadata": {},
   "outputs": [
    {
     "data": {
      "text/plain": [
       "<bound method NDFrame.describe of 0           7.7\n",
       "1          57.7\n",
       "2          10.5\n",
       "3          37.2\n",
       "4          89.7\n",
       "          ...  \n",
       "21784       3.2\n",
       "21787      61.6\n",
       "21788    1484.8\n",
       "21789     193.4\n",
       "21790     309.8\n",
       "Name: value, Length: 14797, dtype: float64>"
      ]
     },
     "execution_count": 14,
     "metadata": {},
     "output_type": "execute_result"
    }
   ],
   "source": [
    "df3=df3.dropna(subset=['value','year','feature_id','country_code'])\n",
    "df3.value.describe"
   ]
  },
  {
   "cell_type": "code",
   "execution_count": 15,
   "id": "5b256700-ceaa-4a71-945b-fc8c54a80ce4",
   "metadata": {},
   "outputs": [],
   "source": [
    "df3=df3.to_csv('data.csv', index=False)"
   ]
  },
  {
   "cell_type": "code",
   "execution_count": null,
   "id": "21038bd5-11fe-468c-a812-07e37892e97a",
   "metadata": {},
   "outputs": [],
   "source": []
  }
 ],
 "metadata": {
  "kernelspec": {
   "display_name": "Python 3 (ipykernel)",
   "language": "python",
   "name": "python3"
  },
  "language_info": {
   "codemirror_mode": {
    "name": "ipython",
    "version": 3
   },
   "file_extension": ".py",
   "mimetype": "text/x-python",
   "name": "python",
   "nbconvert_exporter": "python",
   "pygments_lexer": "ipython3",
   "version": "3.8.5"
  }
 },
 "nbformat": 4,
 "nbformat_minor": 5
}
