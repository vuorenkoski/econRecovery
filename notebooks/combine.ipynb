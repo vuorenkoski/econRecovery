{
 "cells": [
  {
   "cell_type": "markdown",
   "id": "8c867bcc-921c-4213-9114-91dbbcb70a4e",
   "metadata": {},
   "source": [
    "# View WB, IMF and Covid data combined\n",
    "\n",
    "Data is previoiusly saved locally in CSV format, where columns are 'Country or Area', 'Item', 'Year', 'Value'."
   ]
  },
  {
   "cell_type": "code",
   "execution_count": 59,
   "id": "aa73d6fe-f01e-4f25-85bd-289b75e35941",
   "metadata": {},
   "outputs": [
    {
     "name": "stdout",
     "output_type": "stream",
     "text": [
      "Number of datapoints: 17467\n"
     ]
    },
    {
     "data": {
      "text/plain": [
       "value           float64\n",
       "year              int64\n",
       "feature_id        int64\n",
       "country_code     object\n",
       "month           float64\n",
       "dtype: object"
      ]
     },
     "execution_count": 59,
     "metadata": {},
     "output_type": "execute_result"
    }
   ],
   "source": [
    "import pandas as pd\n",
    "\n",
    "df=pd.read_csv('IMF_statistics.csv')\n",
    "df=df.append(pd.read_csv('WB_statistics.csv'))\n",
    "df=df.append(pd.read_csv('Covid_statistics.csv'))\n",
    "print('Number of datapoints:',df.shape[0])\n",
    "df.dtypes"
   ]
  },
  {
   "cell_type": "code",
   "execution_count": 60,
   "id": "36cb4658-0cb8-4fea-ade1-d5bd8739c319",
   "metadata": {},
   "outputs": [
    {
     "name": "stdout",
     "output_type": "stream",
     "text": [
      "Indicators in data\n",
      "  5\n",
      "    years: [2010 2011 2012 2013 2014 2015 2016 2017 2018 2019]\n",
      "  4\n",
      "    years: [2010 2011 2012 2013 2014 2015 2016 2017 2018 2019 2020 2021 2022 2023\n",
      " 2024 2025 2026]\n",
      "  2\n",
      "    years: [2010 2011 2012 2013 2014 2015 2016 2017 2018 2019 2020]\n",
      "  3\n",
      "    years: [2010 2011 2012 2013 2014 2015 2016 2017 2018 2019 2020]\n",
      "  1\n",
      "    years: [2010 2011 2012 2013 2014 2015 2016 2017 2018 2019 2020]\n",
      "  6\n",
      "    years: [2020 2021]\n"
     ]
    }
   ],
   "source": [
    "print('Indicators in data')\n",
    "indicators=df.feature_id.unique()\n",
    "for x in indicators:\n",
    "    print(' ',x)\n",
    "    print('    years:',df[df.feature_id==x].year.unique())"
   ]
  },
  {
   "cell_type": "code",
   "execution_count": 61,
   "id": "98129781-bf68-4156-b1eb-97e7d9e3dbc5",
   "metadata": {},
   "outputs": [
    {
     "name": "stdout",
     "output_type": "stream",
     "text": [
      "Number of countries or areas in data: 291\n"
     ]
    },
    {
     "data": {
      "text/html": [
       "<div>\n",
       "<style scoped>\n",
       "    .dataframe tbody tr th:only-of-type {\n",
       "        vertical-align: middle;\n",
       "    }\n",
       "\n",
       "    .dataframe tbody tr th {\n",
       "        vertical-align: top;\n",
       "    }\n",
       "\n",
       "    .dataframe thead th {\n",
       "        text-align: right;\n",
       "    }\n",
       "</style>\n",
       "<table border=\"1\" class=\"dataframe\">\n",
       "  <thead>\n",
       "    <tr style=\"text-align: right;\">\n",
       "      <th></th>\n",
       "      <th>value</th>\n",
       "      <th>year</th>\n",
       "      <th>feature_id</th>\n",
       "      <th>country_code</th>\n",
       "      <th>month</th>\n",
       "    </tr>\n",
       "  </thead>\n",
       "  <tbody>\n",
       "    <tr>\n",
       "      <th>47</th>\n",
       "      <td>41.2</td>\n",
       "      <td>2010</td>\n",
       "      <td>5</td>\n",
       "      <td>FIN</td>\n",
       "      <td>NaN</td>\n",
       "    </tr>\n",
       "    <tr>\n",
       "      <th>197</th>\n",
       "      <td>42.5</td>\n",
       "      <td>2011</td>\n",
       "      <td>5</td>\n",
       "      <td>FIN</td>\n",
       "      <td>NaN</td>\n",
       "    </tr>\n",
       "    <tr>\n",
       "      <th>347</th>\n",
       "      <td>46.1</td>\n",
       "      <td>2012</td>\n",
       "      <td>5</td>\n",
       "      <td>FIN</td>\n",
       "      <td>NaN</td>\n",
       "    </tr>\n",
       "    <tr>\n",
       "      <th>497</th>\n",
       "      <td>48.0</td>\n",
       "      <td>2013</td>\n",
       "      <td>5</td>\n",
       "      <td>FIN</td>\n",
       "      <td>NaN</td>\n",
       "    </tr>\n",
       "    <tr>\n",
       "      <th>648</th>\n",
       "      <td>50.6</td>\n",
       "      <td>2014</td>\n",
       "      <td>5</td>\n",
       "      <td>FIN</td>\n",
       "      <td>NaN</td>\n",
       "    </tr>\n",
       "    <tr>\n",
       "      <th>...</th>\n",
       "      <td>...</td>\n",
       "      <td>...</td>\n",
       "      <td>...</td>\n",
       "      <td>...</td>\n",
       "      <td>...</td>\n",
       "    </tr>\n",
       "    <tr>\n",
       "      <th>3240</th>\n",
       "      <td>59.3</td>\n",
       "      <td>2021</td>\n",
       "      <td>6</td>\n",
       "      <td>FIN</td>\n",
       "      <td>6.0</td>\n",
       "    </tr>\n",
       "    <tr>\n",
       "      <th>3470</th>\n",
       "      <td>NaN</td>\n",
       "      <td>2021</td>\n",
       "      <td>6</td>\n",
       "      <td>FIN</td>\n",
       "      <td>7.0</td>\n",
       "    </tr>\n",
       "    <tr>\n",
       "      <th>3700</th>\n",
       "      <td>72.5</td>\n",
       "      <td>2021</td>\n",
       "      <td>6</td>\n",
       "      <td>FIN</td>\n",
       "      <td>8.0</td>\n",
       "    </tr>\n",
       "    <tr>\n",
       "      <th>3931</th>\n",
       "      <td>74.5</td>\n",
       "      <td>2021</td>\n",
       "      <td>6</td>\n",
       "      <td>FIN</td>\n",
       "      <td>9.0</td>\n",
       "    </tr>\n",
       "    <tr>\n",
       "      <th>4158</th>\n",
       "      <td>75.4</td>\n",
       "      <td>2021</td>\n",
       "      <td>6</td>\n",
       "      <td>FIN</td>\n",
       "      <td>10.0</td>\n",
       "    </tr>\n",
       "  </tbody>\n",
       "</table>\n",
       "<p>82 rows × 5 columns</p>\n",
       "</div>"
      ],
      "text/plain": [
       "      value  year  feature_id country_code  month\n",
       "47     41.2  2010           5          FIN    NaN\n",
       "197    42.5  2011           5          FIN    NaN\n",
       "347    46.1  2012           5          FIN    NaN\n",
       "497    48.0  2013           5          FIN    NaN\n",
       "648    50.6  2014           5          FIN    NaN\n",
       "...     ...   ...         ...          ...    ...\n",
       "3240   59.3  2021           6          FIN    6.0\n",
       "3470    NaN  2021           6          FIN    7.0\n",
       "3700   72.5  2021           6          FIN    8.0\n",
       "3931   74.5  2021           6          FIN    9.0\n",
       "4158   75.4  2021           6          FIN   10.0\n",
       "\n",
       "[82 rows x 5 columns]"
      ]
     },
     "execution_count": 61,
     "metadata": {},
     "output_type": "execute_result"
    }
   ],
   "source": [
    "df.to_csv('data.csv', index=False)\n",
    "\n",
    "countries=df.country_code.unique()\n",
    "print('Number of countries or areas in data:',len(countries))\n",
    "df[df.country_code=='FIN']"
   ]
  },
  {
   "cell_type": "code",
   "execution_count": 62,
   "id": "9e280dad-b628-43df-8b9c-929835b0e0ac",
   "metadata": {},
   "outputs": [
    {
     "data": {
      "text/plain": [
       "(17467, 5)"
      ]
     },
     "execution_count": 62,
     "metadata": {},
     "output_type": "execute_result"
    }
   ],
   "source": [
    "df.shape"
   ]
  },
  {
   "cell_type": "code",
   "execution_count": 64,
   "id": "34abe644-e5d9-4ff3-adad-439b8d16a8ec",
   "metadata": {},
   "outputs": [
    {
     "data": {
      "text/html": [
       "<div>\n",
       "<style scoped>\n",
       "    .dataframe tbody tr th:only-of-type {\n",
       "        vertical-align: middle;\n",
       "    }\n",
       "\n",
       "    .dataframe tbody tr th {\n",
       "        vertical-align: top;\n",
       "    }\n",
       "\n",
       "    .dataframe thead th {\n",
       "        text-align: right;\n",
       "    }\n",
       "</style>\n",
       "<table border=\"1\" class=\"dataframe\">\n",
       "  <thead>\n",
       "    <tr style=\"text-align: right;\">\n",
       "      <th></th>\n",
       "      <th>Code2</th>\n",
       "      <th>country_code</th>\n",
       "    </tr>\n",
       "  </thead>\n",
       "  <tbody>\n",
       "    <tr>\n",
       "      <th>0</th>\n",
       "      <td>DZ</td>\n",
       "      <td>DZA</td>\n",
       "    </tr>\n",
       "    <tr>\n",
       "      <th>1</th>\n",
       "      <td>EG</td>\n",
       "      <td>EGY</td>\n",
       "    </tr>\n",
       "    <tr>\n",
       "      <th>2</th>\n",
       "      <td>LY</td>\n",
       "      <td>LBY</td>\n",
       "    </tr>\n",
       "    <tr>\n",
       "      <th>3</th>\n",
       "      <td>MA</td>\n",
       "      <td>MAR</td>\n",
       "    </tr>\n",
       "    <tr>\n",
       "      <th>4</th>\n",
       "      <td>SD</td>\n",
       "      <td>SDN</td>\n",
       "    </tr>\n",
       "  </tbody>\n",
       "</table>\n",
       "</div>"
      ],
      "text/plain": [
       "  Code2 country_code\n",
       "0    DZ          DZA\n",
       "1    EG          EGY\n",
       "2    LY          LBY\n",
       "3    MA          MAR\n",
       "4    SD          SDN"
      ]
     },
     "execution_count": 64,
     "metadata": {},
     "output_type": "execute_result"
    }
   ],
   "source": [
    "ccodes=pd.read_csv('countries.csv')[['Code2','country_code']]\n",
    "ccodes.head()"
   ]
  },
  {
   "cell_type": "code",
   "execution_count": 65,
   "id": "412fc7aa-d050-46b4-8f89-7055ea9f9a2f",
   "metadata": {},
   "outputs": [
    {
     "data": {
      "text/plain": [
       "(17467, 6)"
      ]
     },
     "execution_count": 65,
     "metadata": {},
     "output_type": "execute_result"
    }
   ],
   "source": [
    "df2=pd.merge(df, ccodes.rename(columns={'Code2':'code2'}), on=['country_code'], how='left')\n",
    "df2.head(50)\n",
    "df2.shape"
   ]
  },
  {
   "cell_type": "code",
   "execution_count": 66,
   "id": "9f8215fe-d4ae-4496-8b4d-ff5d67989539",
   "metadata": {},
   "outputs": [],
   "source": [
    "df2.to_csv('data.csv', index=False)"
   ]
  },
  {
   "cell_type": "code",
   "execution_count": 67,
   "id": "4e47ae89-a355-4bce-975a-5ad12da5b47c",
   "metadata": {},
   "outputs": [
    {
     "data": {
      "text/html": [
       "<div>\n",
       "<style scoped>\n",
       "    .dataframe tbody tr th:only-of-type {\n",
       "        vertical-align: middle;\n",
       "    }\n",
       "\n",
       "    .dataframe tbody tr th {\n",
       "        vertical-align: top;\n",
       "    }\n",
       "\n",
       "    .dataframe thead th {\n",
       "        text-align: right;\n",
       "    }\n",
       "</style>\n",
       "<table border=\"1\" class=\"dataframe\">\n",
       "  <thead>\n",
       "    <tr style=\"text-align: right;\">\n",
       "      <th></th>\n",
       "      <th>value</th>\n",
       "      <th>year</th>\n",
       "      <th>feature_id</th>\n",
       "      <th>country_code</th>\n",
       "      <th>month</th>\n",
       "      <th>code2</th>\n",
       "    </tr>\n",
       "  </thead>\n",
       "  <tbody>\n",
       "    <tr>\n",
       "      <th>144</th>\n",
       "      <td>73.9</td>\n",
       "      <td>2010</td>\n",
       "      <td>5</td>\n",
       "      <td>USA</td>\n",
       "      <td>NaN</td>\n",
       "      <td>US</td>\n",
       "    </tr>\n",
       "    <tr>\n",
       "      <th>294</th>\n",
       "      <td>78.8</td>\n",
       "      <td>2011</td>\n",
       "      <td>5</td>\n",
       "      <td>USA</td>\n",
       "      <td>NaN</td>\n",
       "      <td>US</td>\n",
       "    </tr>\n",
       "    <tr>\n",
       "      <th>444</th>\n",
       "      <td>83.1</td>\n",
       "      <td>2012</td>\n",
       "      <td>5</td>\n",
       "      <td>USA</td>\n",
       "      <td>NaN</td>\n",
       "      <td>US</td>\n",
       "    </tr>\n",
       "    <tr>\n",
       "      <th>595</th>\n",
       "      <td>85.4</td>\n",
       "      <td>2013</td>\n",
       "      <td>5</td>\n",
       "      <td>USA</td>\n",
       "      <td>NaN</td>\n",
       "      <td>US</td>\n",
       "    </tr>\n",
       "    <tr>\n",
       "      <th>746</th>\n",
       "      <td>86.0</td>\n",
       "      <td>2014</td>\n",
       "      <td>5</td>\n",
       "      <td>USA</td>\n",
       "      <td>NaN</td>\n",
       "      <td>US</td>\n",
       "    </tr>\n",
       "    <tr>\n",
       "      <th>...</th>\n",
       "      <td>...</td>\n",
       "      <td>...</td>\n",
       "      <td>...</td>\n",
       "      <td>...</td>\n",
       "      <td>...</td>\n",
       "      <td>...</td>\n",
       "    </tr>\n",
       "    <tr>\n",
       "      <th>16540</th>\n",
       "      <td>53.7</td>\n",
       "      <td>2021</td>\n",
       "      <td>6</td>\n",
       "      <td>USA</td>\n",
       "      <td>6.0</td>\n",
       "      <td>US</td>\n",
       "    </tr>\n",
       "    <tr>\n",
       "      <th>16770</th>\n",
       "      <td>56.8</td>\n",
       "      <td>2021</td>\n",
       "      <td>6</td>\n",
       "      <td>USA</td>\n",
       "      <td>7.0</td>\n",
       "      <td>US</td>\n",
       "    </tr>\n",
       "    <tr>\n",
       "      <th>17001</th>\n",
       "      <td>61.0</td>\n",
       "      <td>2021</td>\n",
       "      <td>6</td>\n",
       "      <td>USA</td>\n",
       "      <td>8.0</td>\n",
       "      <td>US</td>\n",
       "    </tr>\n",
       "    <tr>\n",
       "      <th>17229</th>\n",
       "      <td>63.7</td>\n",
       "      <td>2021</td>\n",
       "      <td>6</td>\n",
       "      <td>USA</td>\n",
       "      <td>9.0</td>\n",
       "      <td>US</td>\n",
       "    </tr>\n",
       "    <tr>\n",
       "      <th>17453</th>\n",
       "      <td>65.1</td>\n",
       "      <td>2021</td>\n",
       "      <td>6</td>\n",
       "      <td>USA</td>\n",
       "      <td>10.0</td>\n",
       "      <td>US</td>\n",
       "    </tr>\n",
       "  </tbody>\n",
       "</table>\n",
       "<p>82 rows × 6 columns</p>\n",
       "</div>"
      ],
      "text/plain": [
       "       value  year  feature_id country_code  month code2\n",
       "144     73.9  2010           5          USA    NaN    US\n",
       "294     78.8  2011           5          USA    NaN    US\n",
       "444     83.1  2012           5          USA    NaN    US\n",
       "595     85.4  2013           5          USA    NaN    US\n",
       "746     86.0  2014           5          USA    NaN    US\n",
       "...      ...   ...         ...          ...    ...   ...\n",
       "16540   53.7  2021           6          USA    6.0    US\n",
       "16770   56.8  2021           6          USA    7.0    US\n",
       "17001   61.0  2021           6          USA    8.0    US\n",
       "17229   63.7  2021           6          USA    9.0    US\n",
       "17453   65.1  2021           6          USA   10.0    US\n",
       "\n",
       "[82 rows x 6 columns]"
      ]
     },
     "execution_count": 67,
     "metadata": {},
     "output_type": "execute_result"
    }
   ],
   "source": [
    "df2[df2.country_code=='USA']"
   ]
  },
  {
   "cell_type": "code",
   "execution_count": 68,
   "id": "94d683b1-8b68-4897-9f9c-555683206b4e",
   "metadata": {},
   "outputs": [
    {
     "data": {
      "text/plain": [
       "(11399, 5)"
      ]
     },
     "execution_count": 68,
     "metadata": {},
     "output_type": "execute_result"
    }
   ],
   "source": [
    "df3=df2.dropna(subset=['value','year','feature_id','country_code','code2'])\n",
    "df3=df3.drop(['code2'],axis=1)\n",
    "df3.shape"
   ]
  },
  {
   "cell_type": "code",
   "execution_count": 69,
   "id": "9a9095a5-0583-457b-869a-1bc7fc32ea00",
   "metadata": {},
   "outputs": [
    {
     "data": {
      "text/plain": [
       "value           float64\n",
       "year              int64\n",
       "feature_id        int64\n",
       "country_code     object\n",
       "month           float64\n",
       "dtype: object"
      ]
     },
     "execution_count": 69,
     "metadata": {},
     "output_type": "execute_result"
    }
   ],
   "source": [
    "df3.dtypes"
   ]
  },
  {
   "cell_type": "code",
   "execution_count": 70,
   "id": "cb8ff7ac-9e16-425b-b0c8-9683f731c9b6",
   "metadata": {},
   "outputs": [
    {
     "data": {
      "text/plain": [
       "value           float64\n",
       "year              int64\n",
       "feature_id        int64\n",
       "country_code     object\n",
       "month           float64\n",
       "dtype: object"
      ]
     },
     "execution_count": 70,
     "metadata": {},
     "output_type": "execute_result"
    }
   ],
   "source": [
    "df3['value']=pd.to_numeric(df3['value'],errors='coerce')\n",
    "df3.dtypes"
   ]
  },
  {
   "cell_type": "code",
   "execution_count": 71,
   "id": "7fe9ba4b-d746-4c98-add6-5128b9873b93",
   "metadata": {},
   "outputs": [
    {
     "data": {
      "text/plain": [
       "<bound method NDFrame.describe of 0         7.7\n",
       "1        57.7\n",
       "2        10.5\n",
       "3        37.2\n",
       "4        89.7\n",
       "         ... \n",
       "17453    65.1\n",
       "17458    57.9\n",
       "17461    52.1\n",
       "17462    57.6\n",
       "17466    21.5\n",
       "Name: value, Length: 11399, dtype: float64>"
      ]
     },
     "execution_count": 71,
     "metadata": {},
     "output_type": "execute_result"
    }
   ],
   "source": [
    "df3=df3.dropna(subset=['value','year','feature_id','country_code'])\n",
    "df3.value.describe"
   ]
  },
  {
   "cell_type": "code",
   "execution_count": 72,
   "id": "5b256700-ceaa-4a71-945b-fc8c54a80ce4",
   "metadata": {},
   "outputs": [],
   "source": [
    "df3=df3.to_csv('data.csv', index=False)"
   ]
  },
  {
   "cell_type": "code",
   "execution_count": null,
   "id": "21038bd5-11fe-468c-a812-07e37892e97a",
   "metadata": {},
   "outputs": [],
   "source": []
  }
 ],
 "metadata": {
  "kernelspec": {
   "display_name": "Python 3 (ipykernel)",
   "language": "python",
   "name": "python3"
  },
  "language_info": {
   "codemirror_mode": {
    "name": "ipython",
    "version": 3
   },
   "file_extension": ".py",
   "mimetype": "text/x-python",
   "name": "python",
   "nbconvert_exporter": "python",
   "pygments_lexer": "ipython3",
   "version": "3.8.10"
  }
 },
 "nbformat": 4,
 "nbformat_minor": 5
}
