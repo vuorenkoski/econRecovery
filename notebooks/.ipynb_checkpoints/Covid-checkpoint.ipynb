{
 "cells": [
  {
   "cell_type": "markdown",
   "id": "b12568fc-2201-4ef9-9482-df4510a89bad",
   "metadata": {},
   "source": [
    "# Covid statistics\n",
    "\n"
   ]
  },
  {
   "cell_type": "code",
   "execution_count": 1,
   "id": "a6f760d8-7b7b-41e0-8c9d-cf02f05a22de",
   "metadata": {},
   "outputs": [],
   "source": [
    "import pandas as pd\n",
    "\n",
    "url = \"https://covid.ourworldindata.org/data/owid-covid-data.csv\"\n",
    "df = pd.read_csv(url)"
   ]
  },
  {
   "cell_type": "markdown",
   "id": "a72018d2-dddb-4033-9ee8-64008b1a2711",
   "metadata": {},
   "source": [
    "Select only one column (total_vaccinations_per_hundred). There is lots of other incators too, for example 'fully_vaccinated' etc."
   ]
  },
  {
   "cell_type": "code",
   "execution_count": 2,
   "id": "3a8c97ad-e583-4bfd-8037-840c2dbad0ad",
   "metadata": {},
   "outputs": [],
   "source": [
    "df.head()\n",
    "v=df[['people_vaccinated_per_hundred','location','date','iso_code']].dropna()\n",
    "v=v.rename(columns={'iso_code':'Code3'})"
   ]
  },
  {
   "cell_type": "markdown",
   "id": "c165dbe7-2cc7-4bae-bdf9-d68d2771c4af",
   "metadata": {},
   "source": [
    "There is daily data on each country, lets select only most recent date for each country."
   ]
  },
  {
   "cell_type": "code",
   "execution_count": 3,
   "id": "755bdd33-b4c0-43fd-b210-a98557ffa63c",
   "metadata": {},
   "outputs": [
    {
     "data": {
      "text/html": [
       "<div>\n",
       "<style scoped>\n",
       "    .dataframe tbody tr th:only-of-type {\n",
       "        vertical-align: middle;\n",
       "    }\n",
       "\n",
       "    .dataframe tbody tr th {\n",
       "        vertical-align: top;\n",
       "    }\n",
       "\n",
       "    .dataframe thead th {\n",
       "        text-align: right;\n",
       "    }\n",
       "</style>\n",
       "<table border=\"1\" class=\"dataframe\">\n",
       "  <thead>\n",
       "    <tr style=\"text-align: right;\">\n",
       "      <th></th>\n",
       "      <th>people_vaccinated_per_hundred</th>\n",
       "      <th>location</th>\n",
       "      <th>date</th>\n",
       "      <th>Code3</th>\n",
       "    </tr>\n",
       "    <tr>\n",
       "      <th>location</th>\n",
       "      <th></th>\n",
       "      <th></th>\n",
       "      <th></th>\n",
       "      <th></th>\n",
       "    </tr>\n",
       "  </thead>\n",
       "  <tbody>\n",
       "    <tr>\n",
       "      <th>Afghanistan</th>\n",
       "      <td>1.94</td>\n",
       "      <td>Afghanistan</td>\n",
       "      <td>2021-08-31</td>\n",
       "      <td>AFG</td>\n",
       "    </tr>\n",
       "    <tr>\n",
       "      <th>Africa</th>\n",
       "      <td>6.77</td>\n",
       "      <td>Africa</td>\n",
       "      <td>2021-09-30</td>\n",
       "      <td>OWID_AFR</td>\n",
       "    </tr>\n",
       "    <tr>\n",
       "      <th>Albania</th>\n",
       "      <td>32.86</td>\n",
       "      <td>Albania</td>\n",
       "      <td>2021-09-29</td>\n",
       "      <td>ALB</td>\n",
       "    </tr>\n",
       "    <tr>\n",
       "      <th>Algeria</th>\n",
       "      <td>13.49</td>\n",
       "      <td>Algeria</td>\n",
       "      <td>2021-09-25</td>\n",
       "      <td>DZA</td>\n",
       "    </tr>\n",
       "    <tr>\n",
       "      <th>Andorra</th>\n",
       "      <td>68.40</td>\n",
       "      <td>Andorra</td>\n",
       "      <td>2021-08-29</td>\n",
       "      <td>AND</td>\n",
       "    </tr>\n",
       "    <tr>\n",
       "      <th>...</th>\n",
       "      <td>...</td>\n",
       "      <td>...</td>\n",
       "      <td>...</td>\n",
       "      <td>...</td>\n",
       "    </tr>\n",
       "    <tr>\n",
       "      <th>Wallis and Futuna</th>\n",
       "      <td>48.37</td>\n",
       "      <td>Wallis and Futuna</td>\n",
       "      <td>2021-09-28</td>\n",
       "      <td>WLF</td>\n",
       "    </tr>\n",
       "    <tr>\n",
       "      <th>World</th>\n",
       "      <td>45.35</td>\n",
       "      <td>World</td>\n",
       "      <td>2021-09-30</td>\n",
       "      <td>OWID_WRL</td>\n",
       "    </tr>\n",
       "    <tr>\n",
       "      <th>Yemen</th>\n",
       "      <td>1.01</td>\n",
       "      <td>Yemen</td>\n",
       "      <td>2021-09-27</td>\n",
       "      <td>YEM</td>\n",
       "    </tr>\n",
       "    <tr>\n",
       "      <th>Zambia</th>\n",
       "      <td>1.64</td>\n",
       "      <td>Zambia</td>\n",
       "      <td>2021-09-07</td>\n",
       "      <td>ZMB</td>\n",
       "    </tr>\n",
       "    <tr>\n",
       "      <th>Zimbabwe</th>\n",
       "      <td>20.43</td>\n",
       "      <td>Zimbabwe</td>\n",
       "      <td>2021-09-30</td>\n",
       "      <td>ZWE</td>\n",
       "    </tr>\n",
       "  </tbody>\n",
       "</table>\n",
       "<p>226 rows × 4 columns</p>\n",
       "</div>"
      ],
      "text/plain": [
       "                   people_vaccinated_per_hundred           location  \\\n",
       "location                                                              \n",
       "Afghanistan                                 1.94        Afghanistan   \n",
       "Africa                                      6.77             Africa   \n",
       "Albania                                    32.86            Albania   \n",
       "Algeria                                    13.49            Algeria   \n",
       "Andorra                                    68.40            Andorra   \n",
       "...                                          ...                ...   \n",
       "Wallis and Futuna                          48.37  Wallis and Futuna   \n",
       "World                                      45.35              World   \n",
       "Yemen                                       1.01              Yemen   \n",
       "Zambia                                      1.64             Zambia   \n",
       "Zimbabwe                                   20.43           Zimbabwe   \n",
       "\n",
       "                         date     Code3  \n",
       "location                                 \n",
       "Afghanistan        2021-08-31       AFG  \n",
       "Africa             2021-09-30  OWID_AFR  \n",
       "Albania            2021-09-29       ALB  \n",
       "Algeria            2021-09-25       DZA  \n",
       "Andorra            2021-08-29       AND  \n",
       "...                       ...       ...  \n",
       "Wallis and Futuna  2021-09-28       WLF  \n",
       "World              2021-09-30  OWID_WRL  \n",
       "Yemen              2021-09-27       YEM  \n",
       "Zambia             2021-09-07       ZMB  \n",
       "Zimbabwe           2021-09-30       ZWE  \n",
       "\n",
       "[226 rows x 4 columns]"
      ]
     },
     "execution_count": 3,
     "metadata": {},
     "output_type": "execute_result"
    }
   ],
   "source": [
    "recent=v.groupby('location').apply(lambda df : df.sort_values('date', ascending=False).iloc[0])\n",
    "recent"
   ]
  },
  {
   "cell_type": "markdown",
   "id": "ea43632a-6425-4162-afb8-7e0d7e071782",
   "metadata": {},
   "source": [
    "Data is saved in CSV format, where columns are 'Country or Area', 'Item', 'Year', 'Value'."
   ]
  },
  {
   "cell_type": "code",
   "execution_count": 4,
   "id": "d3e442bf-cdfb-4d55-867f-70006d230b20",
   "metadata": {},
   "outputs": [
    {
     "name": "stdout",
     "output_type": "stream",
     "text": [
      "people_vaccinated_per_hundred\n"
     ]
    }
   ],
   "source": [
    "data_name = recent.columns[0]\n",
    "print(data_name)\n",
    "recent=recent.drop(['date'],axis=1).rename(columns={'location':'Country or Area', data_name:'Value'})\n",
    "recent['Item']=data_name\n",
    "recent['Year']=2021\n",
    "recent.to_csv('Covid_statistics.csv', index=False)"
   ]
  },
  {
   "cell_type": "code",
   "execution_count": 6,
   "id": "9cbdd3e1-4a28-444a-a723-f777cf37245a",
   "metadata": {},
   "outputs": [
    {
     "data": {
      "text/html": [
       "<div>\n",
       "<style scoped>\n",
       "    .dataframe tbody tr th:only-of-type {\n",
       "        vertical-align: middle;\n",
       "    }\n",
       "\n",
       "    .dataframe tbody tr th {\n",
       "        vertical-align: top;\n",
       "    }\n",
       "\n",
       "    .dataframe thead th {\n",
       "        text-align: right;\n",
       "    }\n",
       "</style>\n",
       "<table border=\"1\" class=\"dataframe\">\n",
       "  <thead>\n",
       "    <tr style=\"text-align: right;\">\n",
       "      <th></th>\n",
       "      <th>Value</th>\n",
       "      <th>Country or Area</th>\n",
       "      <th>Code3</th>\n",
       "      <th>Item</th>\n",
       "      <th>Year</th>\n",
       "    </tr>\n",
       "    <tr>\n",
       "      <th>location</th>\n",
       "      <th></th>\n",
       "      <th></th>\n",
       "      <th></th>\n",
       "      <th></th>\n",
       "      <th></th>\n",
       "    </tr>\n",
       "  </thead>\n",
       "  <tbody>\n",
       "    <tr>\n",
       "      <th>Russia</th>\n",
       "      <td>32.95</td>\n",
       "      <td>Russia</td>\n",
       "      <td>RUS</td>\n",
       "      <td>people_vaccinated_per_hundred</td>\n",
       "      <td>2021</td>\n",
       "    </tr>\n",
       "  </tbody>\n",
       "</table>\n",
       "</div>"
      ],
      "text/plain": [
       "          Value Country or Area Code3                           Item  Year\n",
       "location                                                                  \n",
       "Russia    32.95          Russia   RUS  people_vaccinated_per_hundred  2021"
      ]
     },
     "execution_count": 6,
     "metadata": {},
     "output_type": "execute_result"
    }
   ],
   "source": [
    "recent[recent.Code3=='RUS']"
   ]
  },
  {
   "cell_type": "code",
   "execution_count": null,
   "id": "4cdd97ca-0b31-4000-96ea-fb23f0760c67",
   "metadata": {},
   "outputs": [],
   "source": []
  }
 ],
 "metadata": {
  "kernelspec": {
   "display_name": "Python 3 (ipykernel)",
   "language": "python",
   "name": "python3"
  },
  "language_info": {
   "codemirror_mode": {
    "name": "ipython",
    "version": 3
   },
   "file_extension": ".py",
   "mimetype": "text/x-python",
   "name": "python",
   "nbconvert_exporter": "python",
   "pygments_lexer": "ipython3",
   "version": "3.8.10"
  }
 },
 "nbformat": 4,
 "nbformat_minor": 5
}
